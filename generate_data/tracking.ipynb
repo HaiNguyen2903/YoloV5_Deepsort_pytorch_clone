{
 "cells": [
  {
   "cell_type": "code",
   "execution_count": 2,
   "source": [
    "import os \n",
    "\n",
    "frames_train_dir = '/data.local/hangd/data_vtx/frames_data/train'\n",
    "frames_test_dir = '/data.local/hangd/data_vtx/frames_data/test'\n",
    "\n",
    "print('train')\n",
    "for dir in os.listdir(frames_train_dir):\n",
    "    print(os.path.join(frames_train_dir, dir), '\\t', len(os.listdir(os.path.join(frames_train_dir, dir))))\n",
    "\n",
    "print()\n",
    "\n",
    "print('test')\n",
    "for dir in os.listdir(frames_test_dir):\n",
    "    print(os.path.join(frames_test_dir, dir), '\\t', len(os.listdir(os.path.join(frames_test_dir, dir))))"
   ],
   "outputs": [
    {
     "output_type": "stream",
     "name": "stdout",
     "text": [
      "train\n",
      "/data.local/hangd/data_vtx/frames_data/train/NVR-CH07_S20210609-112939_E20210609-113836 \t 5380\n",
      "/data.local/hangd/data_vtx/frames_data/train/NVR-CH01_S20210607-113251_E20210607-120452 \t 19200\n",
      "/data.local/hangd/data_vtx/frames_data/train/NVR-CH01_S20210607-094253_E20210607-094856 \t 3598\n",
      "/data.local/hangd/data_vtx/frames_data/train/NVR-CH01_S20210607-095007_E20210607-095126 \t 0\n",
      "/data.local/hangd/data_vtx/frames_data/train/NVR-CH02_S20210607-112840_E20210607-120113 \t 19520\n",
      "\n",
      "test\n",
      "/data.local/hangd/data_vtx/frames_data/test/NVR-CH01_S20210607-102303_E20210607-102433 \t 879\n",
      "/data.local/hangd/data_vtx/frames_data/test/NVR-CH01_S20210607-095126_E20210607-102303 \t 18779\n",
      "/data.local/hangd/data_vtx/frames_data/test/NVR-CH07_S20210609-084936_E20210609-085153 \t 1380\n"
     ]
    }
   ],
   "metadata": {}
  },
  {
   "cell_type": "markdown",
   "source": [],
   "metadata": {}
  },
  {
   "cell_type": "markdown",
   "source": [
    "## NVR-CH07_S20210609-112939_E20210609-113836  not done yet\n"
   ],
   "metadata": {}
  },
  {
   "cell_type": "code",
   "execution_count": 7,
   "source": [
    "# os.symlink('/data.local/hangd/data_vtx/detection_dataset/toy_dataset', '/data.local/all/hainp/yolov5_deep_sort/YoloV5_Deepsort_pytorch_clone/dataset')"
   ],
   "outputs": [],
   "metadata": {}
  },
  {
   "cell_type": "code",
   "execution_count": 16,
   "source": [
    "# os.symlink('/data.local/hangd/data_vtx/detection_dataset/toy_dataset/images', '/data.local/all/hainp/yolov5_deep_sort/YoloV5_Deepsort_pytorch_clone/dataset/images/train')\n",
    "# os.symlink('/data.local/hangd/data_vtx/detection_dataset/toy_dataset/images', '/data.local/all/hainp/yolov5_deep_sort/YoloV5_Deepsort_pytorch_clone/dataset/images/val')\n",
    "\n",
    "# # os.symlink('/data.local/hangd/data_vtx/detection_dataset/toy_dataset/labels', '/data.local/all/hainp/yolov5_deep_sort/YoloV5_Deepsort_pytorch_clone/dataset/labels/train')\n",
    "# # os.symlink('/data.local/hangd/data_vtx/detection_dataset/toy_dataset/labels', '/data.local/all/hainp/yolov5_deep_sort/YoloV5_Deepsort_pytorch_clone/dataset/labels/val')"
   ],
   "outputs": [],
   "metadata": {}
  },
  {
   "cell_type": "code",
   "execution_count": 18,
   "source": [
    "gt_dir = '/data.local/hangd/data_vtx/detection_dataset/labels/train_gt/'\n",
    "frames_dir = '/data.local/hangd/data_vtx/frames_data/train/'\n",
    "\n",
    "train_vid_order = [\n",
    "    'NVR-CH01_S20210607-094253_E20210607-094856',\n",
    "    'NVR-CH02_S20210607-112840_E20210607-120113',\n",
    "    'NVR-CH01_S20210607-095007_E20210607-095126',\n",
    "    'NVR-CH07_S20210609-112939_E20210609-113836',\n",
    "    'NVR-CH01_S20210607-113251_E20210607-120452'\n",
    "]\n",
    "\n",
    "'''\n",
    "assert error:\n",
    "NVR-CH01_S20210607-094253_E20210607-094856\n",
    "\n",
    "'''\n",
    "for i in range(len(train_vid_order)):\n",
    "    print()\n",
    "    print('video', train_vid_order[i])\n",
    "    len1 = len(os.listdir(os.path.join(frames_dir, train_vid_order[i])))\n",
    "    len2 = len(os.listdir(os.path.join(gt_dir, train_vid_order[i])))\n",
    "    print(len1, len2)\n",
    "\n",
    "    if len1 != len2:\n",
    "        print('warning', os.path.join(gt_dir, train_vid_order[i]))\n",
    "        print\n",
    "    # print(os.path.join(frames_dir, train_vid_order[i]), len(os.listdir))\n",
    "    # print('gt dir')\n",
    "    # print(os.path.join(gt_dir, train_vid_order[i]))\n",
    "    # print()\n",
    "    # assert len(os.listdir(os.path.join(frames_dir, train_vid_order[i]))) == len(os.path.join(gt_dir, train_vid_order[i]))\n",
    "\n"
   ],
   "outputs": [
    {
     "output_type": "stream",
     "name": "stdout",
     "text": [
      "\n",
      "video NVR-CH01_S20210607-094253_E20210607-094856\n",
      "3598 3598\n",
      "\n",
      "video NVR-CH02_S20210607-112840_E20210607-120113\n",
      "19520 19520\n",
      "\n",
      "video NVR-CH01_S20210607-095007_E20210607-095126\n",
      "769 769\n",
      "\n",
      "video NVR-CH07_S20210609-112939_E20210609-113836\n",
      "5380 5380\n",
      "\n",
      "video NVR-CH01_S20210607-113251_E20210607-120452\n",
      "19200 19200\n"
     ]
    }
   ],
   "metadata": {}
  },
  {
   "cell_type": "code",
   "execution_count": 20,
   "source": [
    "images_root = '/data.local/all/hainp/yolov5_deep_sort/YoloV5_Deepsort_pytorch_clone/combine_dataset/images'\n",
    "labels_root = '/data.local/all/hainp/yolov5_deep_sort/YoloV5_Deepsort_pytorch_clone/combine_dataset/labels'\n",
    "\n",
    "print(len(os.listdir(os.path.join(images_root, 'train'))), len(os.listdir(os.path.join(labels_root, 'train'))))\n",
    "\n",
    "print(len(os.listdir(os.path.join(images_root, 'val'))), len(os.listdir(os.path.join(labels_root, 'val'))))"
   ],
   "outputs": [
    {
     "output_type": "stream",
     "name": "stdout",
     "text": [
      "40183 40183\n",
      "4465 4465\n"
     ]
    }
   ],
   "metadata": {}
  },
  {
   "cell_type": "code",
   "execution_count": null,
   "source": [],
   "outputs": [],
   "metadata": {}
  }
 ],
 "metadata": {
  "orig_nbformat": 4,
  "language_info": {
   "name": "python",
   "version": "3.9.5",
   "mimetype": "text/x-python",
   "codemirror_mode": {
    "name": "ipython",
    "version": 3
   },
   "pygments_lexer": "ipython3",
   "nbconvert_exporter": "python",
   "file_extension": ".py"
  },
  "kernelspec": {
   "name": "python3",
   "display_name": "Python 3.9.5 64-bit ('deep-sort': conda)"
  },
  "interpreter": {
   "hash": "78e76a5ddc25ac15a823df214ea5d6b9662a611a5be18e421fa05dbd5c865c12"
  }
 },
 "nbformat": 4,
 "nbformat_minor": 2
}