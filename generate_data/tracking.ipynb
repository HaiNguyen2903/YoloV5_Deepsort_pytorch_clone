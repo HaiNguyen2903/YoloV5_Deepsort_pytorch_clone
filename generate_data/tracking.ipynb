{
 "cells": [
  {
   "cell_type": "code",
   "execution_count": 1,
   "source": [
    "import os \n",
    "\n",
    "frames_train_dir = '/data.local/hangd/data_vtx/frames_data/train'\n",
    "frames_test_dir = '/data.local/hangd/data_vtx/frames_data/test'\n",
    "\n",
    "print('train')\n",
    "for dir in os.listdir(frames_train_dir):\n",
    "    print(os.path.join(frames_train_dir, dir), '\\t', len(os.listdir(os.path.join(frames_train_dir, dir))))\n",
    "\n",
    "print()\n",
    "\n",
    "print('test')\n",
    "for dir in os.listdir(frames_test_dir):\n",
    "    print(os.path.join(frames_test_dir, dir), '\\t', len(os.listdir(os.path.join(frames_test_dir, dir))))"
   ],
   "outputs": [
    {
     "output_type": "stream",
     "name": "stdout",
     "text": [
      "train\n",
      "/data.local/hangd/data_vtx/frames_data/train/NVR-CH07_S20210609-112939_E20210609-113836 \t 0\n",
      "/data.local/hangd/data_vtx/frames_data/train/NVR-CH01_S20210607-113251_E20210607-120452 \t 19200\n",
      "/data.local/hangd/data_vtx/frames_data/train/NVR-CH01_S20210607-094253_E20210607-094856 \t 3598\n",
      "/data.local/hangd/data_vtx/frames_data/train/NVR-CH01_S20210607-095007_E20210607-095126 \t 769\n",
      "/data.local/hangd/data_vtx/frames_data/train/NVR-CH02_S20210607-112840_E20210607-120113 \t 19520\n",
      "\n",
      "test\n",
      "/data.local/hangd/data_vtx/frames_data/test/NVR-CH01_S20210607-102303_E20210607-102433 \t 0\n",
      "/data.local/hangd/data_vtx/frames_data/test/NVR-CH01_S20210607-095126_E20210607-102303 \t 0\n",
      "/data.local/hangd/data_vtx/frames_data/test/NVR-CH07_S20210609-084936_E20210609-085153 \t 0\n"
     ]
    }
   ],
   "metadata": {}
  },
  {
   "cell_type": "markdown",
   "source": [
    "## NVR-CH07_S20210609-112939_E20210609-113836  not done yet\n"
   ],
   "metadata": {}
  },
  {
   "cell_type": "code",
   "execution_count": 7,
   "source": [
    "# os.symlink('/data.local/hangd/data_vtx/detection_dataset/toy_dataset', '/data.local/all/hainp/yolov5_deep_sort/YoloV5_Deepsort_pytorch_clone/dataset')"
   ],
   "outputs": [],
   "metadata": {}
  },
  {
   "cell_type": "code",
   "execution_count": 16,
   "source": [
    "# os.symlink('/data.local/hangd/data_vtx/detection_dataset/toy_dataset/images', '/data.local/all/hainp/yolov5_deep_sort/YoloV5_Deepsort_pytorch_clone/dataset/images/train')\n",
    "# os.symlink('/data.local/hangd/data_vtx/detection_dataset/toy_dataset/images', '/data.local/all/hainp/yolov5_deep_sort/YoloV5_Deepsort_pytorch_clone/dataset/images/val')\n",
    "\n",
    "# # os.symlink('/data.local/hangd/data_vtx/detection_dataset/toy_dataset/labels', '/data.local/all/hainp/yolov5_deep_sort/YoloV5_Deepsort_pytorch_clone/dataset/labels/train')\n",
    "# # os.symlink('/data.local/hangd/data_vtx/detection_dataset/toy_dataset/labels', '/data.local/all/hainp/yolov5_deep_sort/YoloV5_Deepsort_pytorch_clone/dataset/labels/val')"
   ],
   "outputs": [],
   "metadata": {}
  },
  {
   "cell_type": "code",
   "execution_count": null,
   "source": [],
   "outputs": [],
   "metadata": {}
  }
 ],
 "metadata": {
  "orig_nbformat": 4,
  "language_info": {
   "name": "python",
   "version": "3.9.5",
   "mimetype": "text/x-python",
   "codemirror_mode": {
    "name": "ipython",
    "version": 3
   },
   "pygments_lexer": "ipython3",
   "nbconvert_exporter": "python",
   "file_extension": ".py"
  },
  "kernelspec": {
   "name": "python3",
   "display_name": "Python 3.9.5 64-bit ('deep-sort': conda)"
  },
  "interpreter": {
   "hash": "78e76a5ddc25ac15a823df214ea5d6b9662a611a5be18e421fa05dbd5c865c12"
  }
 },
 "nbformat": 4,
 "nbformat_minor": 2
}